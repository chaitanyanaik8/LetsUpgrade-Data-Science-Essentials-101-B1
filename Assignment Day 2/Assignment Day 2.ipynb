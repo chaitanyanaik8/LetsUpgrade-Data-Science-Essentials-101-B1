{
 "cells": [
  {
   "cell_type": "markdown",
   "metadata": {},
   "source": [
    "# Question 1:\n",
    "Create an empty list. \n",
    "Accept 10 numbers from the user and append to it the list if it is an even number."
   ]
  },
  {
   "cell_type": "code",
   "execution_count": 1,
   "metadata": {},
   "outputs": [
    {
     "name": "stdout",
     "output_type": "stream",
     "text": [
      "1\n",
      "2\n",
      "3\n",
      "4\n",
      "5\n",
      "6\n",
      "7\n",
      "8\n",
      "9\n",
      "10\n",
      "[2, 4, 6, 8, 10]\n"
     ]
    }
   ],
   "source": [
    "l = []\n",
    "for i in range(10):\n",
    "    num = int(input())\n",
    "    if num % 2 == 0:\n",
    "        l.append(num)\n",
    "print(l)"
   ]
  },
  {
   "cell_type": "markdown",
   "metadata": {},
   "source": [
    "# Question 2:\n",
    "Create a notebook on LIST COMPREHENSION. This exercise is to put you in a Self learning mode"
   ]
  },
  {
   "cell_type": "markdown",
   "metadata": {},
   "source": [
    "List Comprehension provide a concise way to create lists.\n",
    "\n",
    "List comprehension consists of brackets containing an expression followed by a (for) clause, then zero or more (for) or (if) clauses. The result will be a new list resulting from evaluating the expression in the context of the (for) and (if) clauses which follow it.\n",
    "\n",
    "Syntax: [expression for item in list]\n",
    "\n",
    "It is used to make new lists where each element is the result of some operations applied to each member of another sequence or iterable, or to create a subsequence of those elements that satisfy a certain condition."
   ]
  },
  {
   "cell_type": "code",
   "execution_count": 2,
   "metadata": {},
   "outputs": [
    {
     "name": "stdout",
     "output_type": "stream",
     "text": [
      "[1, 2, 3, 4, 5, 6, 7, 8, 9, 10]\n",
      "[2, 4, 6, 8, 10]\n"
     ]
    }
   ],
   "source": [
    "# Creating a list of even numbers using list comprehension\n",
    "l1 = [1,2,3,4,5,6,7,8,9,10]\n",
    "even = [x for x in l1 if x % 2 == 0]\n",
    "print(l1)\n",
    "print(even)"
   ]
  },
  {
   "cell_type": "markdown",
   "metadata": {},
   "source": [
    "# Question 3:\n",
    "\n",
    "You have seen in the videos how powerful dictionary data structure is.\n",
    "\n",
    "In this assignment, given a number n, you have to write a program that generates a dictionary d which\n",
    "contains (i, i*i), where i is from 1 to n (both included).\n",
    "\n",
    "Then you have to just print this dictionary d.\n",
    "\n",
    "Example:\n",
    "Input: 4\n",
    "will give output as\n",
    "{1: 1, 2: 4, 3: 9, 4: 16}\n",
    "\n",
    "Input Format:\n",
    "Take the number n in a single line.\n",
    "\n",
    "Output Format:\n",
    "Print the dictionary d in a single line."
   ]
  },
  {
   "cell_type": "code",
   "execution_count": 3,
   "metadata": {},
   "outputs": [
    {
     "name": "stdout",
     "output_type": "stream",
     "text": [
      "4\n",
      "{1: 1, 2: 4, 3: 9, 4: 16} "
     ]
    }
   ],
   "source": [
    "d = {}\n",
    "n = int(input())\n",
    "for i in range(1,n+1):\n",
    "    d[i] = i * i\n",
    "print(d,end=\" \")"
   ]
  },
  {
   "cell_type": "markdown",
   "metadata": {},
   "source": [
    "# Question 4:\n",
    "\n",
    "There is a robot which wants to go the charging point to charge itself.\n",
    "\n",
    "The robot moves in a 2-D plane from the original point (0,0). \n",
    "The robot can move toward UP, DOWN, LEFT and RIGHT with given steps.\n",
    "\n",
    "The trace of robot movement is shown as the following:\n",
    "UP 5\n",
    "DOWN 3\n",
    "LEFT 3\n",
    "RIGHT 2\n",
    "\n",
    "Then, the output of the program should be:\n",
    "2\n",
    "\n",
    "The numbers after the direction are steps.\n",
    "\n",
    "Write a program to compute the distance between the current position after\n",
    "a sequence of movement and original point. If the distance is a float, then\n",
    "just print the nearest integer (use round() function for that and then convert\n",
    "it into an integer).\n",
    "\n",
    "Input Format:\n",
    "The first line of the input contains a number n which implies the number of\n",
    "directions to be given.\n",
    "The next n lines contain the direction and the step separated by a space.\n",
    "\n",
    "Output Format:\n",
    "Print the distance from the original position to the current position.\n",
    "\n",
    "Example:\n",
    "\n",
    "Input:\n",
    "4\n",
    "\n",
    "UP 5\n",
    "\n",
    "DOWN 3\n",
    "\n",
    "LEFT 3\n",
    "\n",
    "RIGHT 2\n",
    "\n",
    "Output:\n",
    "2"
   ]
  },
  {
   "cell_type": "code",
   "execution_count": 4,
   "metadata": {},
   "outputs": [
    {
     "name": "stdout",
     "output_type": "stream",
     "text": [
      "4\n",
      "UP 5\n",
      "DOWN 3\n",
      "LEFT 3\n",
      "RIGHT 2\n",
      "2\n"
     ]
    }
   ],
   "source": [
    "x, y = 0, 0\n",
    "n = int(input())\n",
    "\n",
    "for i in range(n):\n",
    "    step = input().split(\" \")\n",
    "    if step[0] == \"UP\":\n",
    "        y = y + int(step[1])\n",
    "    elif step[0] == \"DOWN\":\n",
    "        y = y - int(step[1])\n",
    "    elif step[0] == \"LEFT\":\n",
    "        x = x - int(step[1])\n",
    "    elif step[0] == \"RIGHT\":\n",
    "        x = x + int(step[1])\n",
    "\n",
    "dist = int(round((x**2 + y**2)**0.5))\n",
    "print(dist)"
   ]
  }
 ],
 "metadata": {
  "kernelspec": {
   "display_name": "Python 3",
   "language": "python",
   "name": "python3"
  },
  "language_info": {
   "codemirror_mode": {
    "name": "ipython",
    "version": 3
   },
   "file_extension": ".py",
   "mimetype": "text/x-python",
   "name": "python",
   "nbconvert_exporter": "python",
   "pygments_lexer": "ipython3",
   "version": "3.8.5"
  },
  "toc": {
   "base_numbering": 1,
   "nav_menu": {},
   "number_sections": true,
   "sideBar": true,
   "skip_h1_title": false,
   "title_cell": "Table of Contents",
   "title_sidebar": "Contents",
   "toc_cell": false,
   "toc_position": {},
   "toc_section_display": true,
   "toc_window_display": false
  }
 },
 "nbformat": 4,
 "nbformat_minor": 4
}
