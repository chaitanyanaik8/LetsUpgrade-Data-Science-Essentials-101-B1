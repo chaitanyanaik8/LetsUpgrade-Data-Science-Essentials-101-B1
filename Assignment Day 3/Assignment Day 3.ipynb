{
 "cells": [
  {
   "cell_type": "code",
   "execution_count": 1,
   "metadata": {},
   "outputs": [],
   "source": [
    "import numpy as np"
   ]
  },
  {
   "cell_type": "markdown",
   "metadata": {},
   "source": [
    "# Question 1:\n",
    "Create a numpy array starting from 2 till 50 with a stepsize of 3."
   ]
  },
  {
   "cell_type": "code",
   "execution_count": 2,
   "metadata": {},
   "outputs": [
    {
     "data": {
      "text/plain": [
       "array([ 2,  5,  8, 11, 14, 17, 20, 23, 26, 29, 32, 35, 38, 41, 44, 47, 50])"
      ]
     },
     "execution_count": 2,
     "metadata": {},
     "output_type": "execute_result"
    }
   ],
   "source": [
    "arr = np.arange(2,51,3)\n",
    "arr"
   ]
  },
  {
   "cell_type": "markdown",
   "metadata": {},
   "source": [
    "# Question 2:\n",
    "Accept two lists of 5 elements each from the user.\n",
    "\n",
    "Convert them to numpy arrays. Concatenate these arrays and print it. Also sort these arrays and print it."
   ]
  },
  {
   "cell_type": "code",
   "execution_count": 3,
   "metadata": {},
   "outputs": [
    {
     "name": "stdout",
     "output_type": "stream",
     "text": [
      "Enter the list 1 items :5 4 3 2 1\n",
      "Enter the list 2 items :10 9 8 7 6\n",
      "\n",
      "Numpy Arr1: [5 4 3 2 1]\n",
      "Numpy Arr2: [10  9  8  7  6]\n",
      "\n",
      "Concatenation of the two Numpy Arrays: [ 5  4  3  2  1 10  9  8  7  6]\n",
      "\n",
      "Sorted Arr1: [1 2 3 4 5]\n",
      "Sorted Arr2: [ 6  7  8  9 10]\n",
      "Sorted Arr3: [ 1  2  3  4  5  6  7  8  9 10]\n"
     ]
    }
   ],
   "source": [
    "l1 = [int(item) for item in input(\"Enter the list 1 items :\").split()]\n",
    "l2 = [int(item) for item in input(\"Enter the list 2 items :\").split()] \n",
    "arr1 = np.array(l1)\n",
    "arr2 = np.array(l2)\n",
    "arr3 = np.concatenate([arr1,arr2])\n",
    "print(\"\\nNumpy Arr1:\",arr1)\n",
    "print(\"Numpy Arr2:\",arr2)\n",
    "print(\"\\nConcatenation of the two Numpy Arrays:\",arr3)\n",
    "print(\"\\nSorted Arr1:\",np.sort(arr1))\n",
    "print(\"Sorted Arr2:\",np.sort(arr2))\n",
    "print(\"Sorted Arr3:\",np.sort(arr3))"
   ]
  },
  {
   "cell_type": "markdown",
   "metadata": {},
   "source": [
    "# Question 3:\n",
    "Write a code snippet to find the dimensions of a ndarray and its size."
   ]
  },
  {
   "cell_type": "code",
   "execution_count": 4,
   "metadata": {},
   "outputs": [
    {
     "name": "stdout",
     "output_type": "stream",
     "text": [
      "No. of dimensions: 2\n",
      "Size of array: 9\n"
     ]
    }
   ],
   "source": [
    "arr = np.array([[1,2,3],[4,5,6],[7,8,9]])\n",
    "print(\"No. of dimensions:\", arr.ndim)\n",
    "print(\"Size of array:\", arr.size)"
   ]
  },
  {
   "cell_type": "markdown",
   "metadata": {},
   "source": [
    "# Question 4:\n",
    "How to convert a 1D array into a 2D array? Demonstrate with the help of a code snippet\n",
    "\n",
    "Hint: np.newaxis, np.expand_dims"
   ]
  },
  {
   "cell_type": "code",
   "execution_count": 5,
   "metadata": {},
   "outputs": [
    {
     "name": "stdout",
     "output_type": "stream",
     "text": [
      "1D Array: [1 2 3 4 5]\n",
      "Shape: (5,)\n",
      "\n",
      "2D Array:\n",
      " [[1]\n",
      " [2]\n",
      " [3]\n",
      " [4]\n",
      " [5]]\n",
      "Shape: (5, 1)\n"
     ]
    }
   ],
   "source": [
    "arr1 = np.array([1,2,3,4,5])\n",
    "print(\"1D Array:\",arr1)\n",
    "print(\"Shape:\",arr1.shape)\n",
    "arr = np.expand_dims(arr1, axis=1)\n",
    "print(\"\\n2D Array:\\n\",arr)\n",
    "print(\"Shape:\",arr.shape)"
   ]
  },
  {
   "cell_type": "markdown",
   "metadata": {},
   "source": [
    "# Question 5:\n",
    "Consider two square numpy arrays. Stack them vertically and horizontally.\n",
    "\n",
    "Hint: Use vstack(), hstack()"
   ]
  },
  {
   "cell_type": "code",
   "execution_count": 6,
   "metadata": {},
   "outputs": [
    {
     "name": "stdout",
     "output_type": "stream",
     "text": [
      "Vertical Stack:\n",
      " [[1 2 3 4]\n",
      " [5 6 7 8]]\n",
      "Horizontal Stack: [1 2 3 4 5 6 7 8]\n"
     ]
    }
   ],
   "source": [
    "arr1 = np.array([1,2,3,4])\n",
    "arr2 = np.array([5,6,7,8])\n",
    "print(\"Vertical Stack:\\n\",np.vstack((arr1,arr2)))\n",
    "print(\"Horizontal Stack:\",np.hstack((arr1,arr2)))"
   ]
  },
  {
   "cell_type": "markdown",
   "metadata": {},
   "source": [
    "# Question 6:\n",
    "How to get unique items and counts of unique items?"
   ]
  },
  {
   "cell_type": "code",
   "execution_count": 7,
   "metadata": {},
   "outputs": [
    {
     "name": "stdout",
     "output_type": "stream",
     "text": [
      "Unique items: [1 2 3 4 5 6 7 8]\n",
      "Count of Unique items: [1 2 3 3 4 1 1 1]\n"
     ]
    }
   ],
   "source": [
    "arr = np.array([1,3,4,5,2,4,5,6,8,3,5,3,5,7,4,2])\n",
    "unique_items, count_unique_items = np.unique(arr,return_counts=True)\n",
    "print(\"Unique items:\",unique_items)\n",
    "print(\"Count of Unique items:\",count_unique_items)"
   ]
  }
 ],
 "metadata": {
  "kernelspec": {
   "display_name": "Python 3",
   "language": "python",
   "name": "python3"
  },
  "language_info": {
   "codemirror_mode": {
    "name": "ipython",
    "version": 3
   },
   "file_extension": ".py",
   "mimetype": "text/x-python",
   "name": "python",
   "nbconvert_exporter": "python",
   "pygments_lexer": "ipython3",
   "version": "3.8.5"
  },
  "toc": {
   "base_numbering": 1,
   "nav_menu": {},
   "number_sections": true,
   "sideBar": true,
   "skip_h1_title": false,
   "title_cell": "Table of Contents",
   "title_sidebar": "Contents",
   "toc_cell": false,
   "toc_position": {},
   "toc_section_display": true,
   "toc_window_display": false
  }
 },
 "nbformat": 4,
 "nbformat_minor": 4
}
